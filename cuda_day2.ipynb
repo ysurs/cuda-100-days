{
  "nbformat": 4,
  "nbformat_minor": 0,
  "metadata": {
    "colab": {
      "provenance": [],
      "gpuType": "T4",
      "authorship_tag": "ABX9TyNN7T2JdVKACjyBgYY3rR24",
      "include_colab_link": true
    },
    "kernelspec": {
      "name": "python3",
      "display_name": "Python 3"
    },
    "language_info": {
      "name": "python"
    },
    "accelerator": "GPU"
  },
  "cells": [
    {
      "cell_type": "markdown",
      "metadata": {
        "id": "view-in-github",
        "colab_type": "text"
      },
      "source": [
        "<a href=\"https://colab.research.google.com/github/ysurs/cuda-100-days/blob/main/cuda_day2.ipynb\" target=\"_parent\"><img src=\"https://colab.research.google.com/assets/colab-badge.svg\" alt=\"Open In Colab\"/></a>"
      ]
    },
    {
      "cell_type": "code",
      "execution_count": 62,
      "metadata": {
        "colab": {
          "base_uri": "https://localhost:8080/"
        },
        "id": "t7wjDOnRtVIM",
        "outputId": "e7837250-b5cb-4254-d234-bf198b23fbdf"
      },
      "outputs": [
        {
          "output_type": "stream",
          "name": "stdout",
          "text": [
            "Overwriting matrix_add.cu\n"
          ]
        }
      ],
      "source": [
        "\n",
        "%%writefile matrix_add.cu\n",
        "\n",
        "#include <iostream>\n",
        "\n",
        "__global__ void matrix_add(int *a, int *b, int *c, int row, int column)\n",
        "{\n",
        "  int r_var= blockIdx.y*blockDim.y+threadIdx.y;\n",
        "  int c_var= blockIdx.x*blockDim.x+threadIdx.x;\n",
        "\n",
        "  if (r_var<row && c_var<column)\n",
        "  {\n",
        "    c[r_var*column+c_var] = a[r_var*column+c_var] + b[r_var*column+c_var];\n",
        "  }\n",
        "}\n",
        "\n",
        "\n",
        "\n",
        "int main()\n",
        "{\n",
        "\n",
        "  int row = 10;\n",
        "  int col = 10;\n",
        "  int *mat_a, *mat_b, *mat_c;\n",
        "\n",
        "  mat_a = (int *)malloc(row * col * sizeof(int));\n",
        "  mat_b = (int *)malloc(row * col * sizeof(int));\n",
        "  mat_c = (int *)malloc(row * col * sizeof(int));\n",
        "\n",
        "  for (int i = 0; i < row; i++)\n",
        "  {\n",
        "    for (int j=0;j<col;j++)\n",
        "    {\n",
        "      mat_a[i*col+j] = 1;\n",
        "      mat_b[i*col+j] = 2;\n",
        "    }\n",
        "  }\n",
        "\n",
        "  for (int i=0;i<row;i++)\n",
        "  {\n",
        "    for (int j=0;j<col;j++)\n",
        "    {\n",
        "      printf(\"%d\",mat_a[i*col+j]);\n",
        "    }\n",
        "    printf(\"\\n\");\n",
        "  }\n",
        "\n",
        "  for (int i=0;i<row;i++)\n",
        "  {\n",
        "    for (int j=0;j<col;j++)\n",
        "    {\n",
        "      printf(\"%d\",mat_b[i*col+j]);\n",
        "    }\n",
        "    printf(\"\\n\");\n",
        "  }\n",
        "\n",
        "  int *d_mat_a, *d_mat_b, *d_mat_c;\n",
        "\n",
        "  cudaMalloc((void **)&d_mat_a, row * col * sizeof(int));\n",
        "  cudaMalloc((void **)&d_mat_b, row * col * sizeof(int));\n",
        "  cudaMalloc((void **)&d_mat_c, row * col * sizeof(int));\n",
        "\n",
        "  cudaMemcpy(d_mat_a, mat_a, row * col * sizeof(int), cudaMemcpyHostToDevice);\n",
        "  cudaMemcpy(d_mat_b, mat_b, row * col * sizeof(int), cudaMemcpyHostToDevice);\n",
        "\n",
        "  // Important to convert the divisor into float to get correct output\n",
        "  // No of blocks is determined by the block dimensions\n",
        "  // Block and grid dimensions are not related, it can be anything but we have to make sure grid of threads are covering entire output\n",
        "  dim3 griddim(ceil(row/16.0),ceil(col/16.0),1);\n",
        "  dim3 blockdim(32,32,1);\n",
        "\n",
        "  matrix_add<<<griddim,blockdim>>>(d_mat_a,d_mat_b,d_mat_c,row,col);\n",
        "\n",
        "  // Wait for GPU to finish\n",
        "  cudaDeviceSynchronize();\n",
        "\n",
        "  cudaMemcpy(mat_c,d_mat_c, row * col * sizeof(int), cudaMemcpyDeviceToHost);\n",
        "\n",
        "  for (int i=0;i<row;i++)\n",
        "  {\n",
        "    for (int j=0;j<col;j++)\n",
        "    {\n",
        "      printf(\"%d\",mat_c[i*col+j]);\n",
        "    }\n",
        "    printf(\"\\n\");\n",
        "  }\n",
        "\n",
        "  cudaFree(d_mat_a);\n",
        "  cudaFree(d_mat_b);\n",
        "  cudaFree(d_mat_c);\n",
        "\n",
        "  return 0;\n",
        "}"
      ]
    },
    {
      "cell_type": "code",
      "source": [
        "!nvcc matrix_add.cu -o matrix_add"
      ],
      "metadata": {
        "id": "CFB3BTEcAxOJ"
      },
      "execution_count": 63,
      "outputs": []
    },
    {
      "cell_type": "code",
      "source": [
        "!./matrix_add"
      ],
      "metadata": {
        "id": "37OVI6MvA6Xn"
      },
      "execution_count": null,
      "outputs": []
    }
  ]
}