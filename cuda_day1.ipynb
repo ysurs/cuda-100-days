{
  "nbformat": 4,
  "nbformat_minor": 0,
  "metadata": {
    "colab": {
      "provenance": [],
      "gpuType": "T4",
      "authorship_tag": "ABX9TyMuNHgfeCPhrEGbc2YvXR8n",
      "include_colab_link": true
    },
    "kernelspec": {
      "name": "python3",
      "display_name": "Python 3"
    },
    "language_info": {
      "name": "python"
    },
    "accelerator": "GPU"
  },
  "cells": [
    {
      "cell_type": "markdown",
      "metadata": {
        "id": "view-in-github",
        "colab_type": "text"
      },
      "source": [
        "<a href=\"https://colab.research.google.com/github/ysurs/cuda-100-days/blob/main/cuda_day1.ipynb\" target=\"_parent\"><img src=\"https://colab.research.google.com/assets/colab-badge.svg\" alt=\"Open In Colab\"/></a>"
      ]
    },
    {
      "cell_type": "code",
      "source": [
        "%%writefile vector_add.cu\n",
        "\n",
        "#include <stdio.h>\n",
        "__global__ void vecAddKernel(int *A, int *B, int *C, int n) {\n",
        "    int idx = threadIdx.x + blockIdx.x * blockDim.x;\n",
        "    if (idx < n) {\n",
        "        C[idx] = A[idx] + B[idx];\n",
        "    }\n",
        "}\n",
        "\n",
        "int main() {\n",
        "    const int n = 5;\n",
        "    int a[n], b[n], c[n];\n",
        "    int size = n * sizeof(int);\n",
        "\n",
        "    // This will store address of allocated space on device\n",
        "    int *a_d,*b_d,*c_d;\n",
        "\n",
        "    cudaMalloc((void **)&a_d,size);\n",
        "    cudaMalloc((void **)&b_d,size);\n",
        "    cudaMalloc((void **)&c_d,size);\n",
        "\n",
        "    for (int i = 0; i < n; ++i) {\n",
        "        a[i] = b[i] = i;\n",
        "        printf(\"a[%d] = %d\\n\", i, a[i]);\n",
        "        printf(\"b[%d] = %d\\n\", i, b[i]);\n",
        "    }\n",
        "\n",
        "\n",
        "    cudaMemcpy(a_d,a,size,cudaMemcpyHostToDevice);\n",
        "    cudaMemcpy(b_d,b,size,cudaMemcpyHostToDevice);\n",
        "\n",
        "    vecAddKernel<<<ceil(n/256.0), 256>>>(a_d, b_d, c_d, n);\n",
        "\n",
        "    cudaMemcpy(c,c_d,size,cudaMemcpyDeviceToHost);\n",
        "\n",
        "\n",
        "    for (int i = 0; i < 5; ++i) {\n",
        "        printf(\"c[%d] = %d\\n\", i, c[i]);\n",
        "    }\n",
        "\n",
        "    cudaFree(a_d);\n",
        "    cudaFree(b_d);\n",
        "    cudaFree(c_d);\n",
        "}"
      ],
      "metadata": {
        "colab": {
          "base_uri": "https://localhost:8080/"
        },
        "id": "9TMJfF9GxnHB",
        "outputId": "3e4d44de-257b-413b-c0f2-03a3b242e7a2"
      },
      "execution_count": 4,
      "outputs": [
        {
          "output_type": "stream",
          "name": "stdout",
          "text": [
            "Overwriting vector_add.cu\n"
          ]
        }
      ]
    },
    {
      "cell_type": "code",
      "source": [
        "!nvcc vector_add.cu -o vector_add"
      ],
      "metadata": {
        "id": "2PX1RrZezCkz"
      },
      "execution_count": 5,
      "outputs": []
    },
    {
      "cell_type": "code",
      "source": [
        "!./vector_add"
      ],
      "metadata": {
        "colab": {
          "base_uri": "https://localhost:8080/"
        },
        "id": "WLgA6RPTzIcu",
        "outputId": "86e27fb3-3f02-4e0d-91e9-8d01c5472dce"
      },
      "execution_count": 6,
      "outputs": [
        {
          "output_type": "stream",
          "name": "stdout",
          "text": [
            "a[0] = 0\n",
            "b[0] = 0\n",
            "a[1] = 1\n",
            "b[1] = 1\n",
            "a[2] = 2\n",
            "b[2] = 2\n",
            "a[3] = 3\n",
            "b[3] = 3\n",
            "a[4] = 4\n",
            "b[4] = 4\n",
            "c[0] = 0\n",
            "c[1] = 2\n",
            "c[2] = 4\n",
            "c[3] = 6\n",
            "c[4] = 8\n"
          ]
        }
      ]
    },
    {
      "cell_type": "code",
      "source": [],
      "metadata": {
        "id": "vWfKMMD-Aagy"
      },
      "execution_count": null,
      "outputs": []
    }
  ]
}